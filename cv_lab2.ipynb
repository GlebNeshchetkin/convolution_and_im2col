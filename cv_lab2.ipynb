{
  "nbformat": 4,
  "nbformat_minor": 0,
  "metadata": {
    "colab": {
      "provenance": []
    },
    "kernelspec": {
      "name": "python3",
      "display_name": "Python 3"
    },
    "language_info": {
      "name": "python"
    }
  },
  "cells": [
    {
      "cell_type": "markdown",
      "source": [
        "**<h1>1. Реализовать функцию свертки. Придумать тест для проверки.**"
      ],
      "metadata": {
        "id": "q3v9tyxVGG6A"
      }
    },
    {
      "cell_type": "code",
      "source": [
        "import torch\n",
        "import torch.nn.functional as F\n",
        "\n",
        "def convolution(input_tensor, filter_tensor, stride=(1, 1), padding=(0, 0)):\n",
        "    N, C_in, H_in, W_in = input_tensor.size()\n",
        "    M, C_fl, R, S = filter_tensor.size()\n",
        "\n",
        "    if C_in == C_fl:\n",
        "      C = C_in\n",
        "    else:\n",
        "      print(\"Error!\")\n",
        "\n",
        "    H_out = (H_in + 2 * padding[0] - R) // stride[0] + 1\n",
        "    W_out = (W_in + 2 * padding[1] - S) // stride[1] + 1\n",
        "\n",
        "    I = F.pad(input_tensor, (padding[1], padding[1], padding[0], padding[0]))\n",
        "\n",
        "    output_tensor = torch.zeros(N, M, H_out, W_out)\n",
        "\n",
        "    for n in range(N):\n",
        "      for m in range(M):\n",
        "        for x in range(W_out):\n",
        "          for y in range(H_out):\n",
        "            for i in range(R):\n",
        "              for j in range(S):\n",
        "                for k in range(C):\n",
        "                  output_tensor[n, m, x, y] += I[n, k, x * stride[0] + i, y * stride[1] + j] * filter_tensor[m, k, i, j]\n",
        "\n",
        "    return output_tensor\n",
        "\n",
        "\n",
        "input_tensor = torch.tensor([[[[1.2, 2.1, 3.1],\n",
        "                               [4.8, 5.4, 6.2],\n",
        "                               [7.5, 8.5, 9.3]]]], dtype=torch.float32)\n",
        "filter_tensor = torch.tensor([[[[1, 0],\n",
        "                                [0, 1]]]], dtype=torch.float32)\n",
        "\n",
        "output_tensor_custom = convolution(input_tensor, filter_tensor, stride=(1, 1), padding=(0, 0))\n",
        "output_tensor_library = F.conv2d(input_tensor, filter_tensor, stride=(1, 1), padding=(0, 0))\n",
        "\n",
        "print(output_tensor_custom)\n",
        "print(output_tensor_library)\n",
        "\n",
        "if torch.allclose(output_tensor_custom, output_tensor_library):\n",
        "    print(\"Outputs match\")\n",
        "else:\n",
        "    print(\"Outputs don't match\")\n"
      ],
      "metadata": {
        "colab": {
          "base_uri": "https://localhost:8080/"
        },
        "id": "SzvzwP3dDKws",
        "outputId": "fc376dd9-abcb-46bf-cd17-5f5517eb6084"
      },
      "execution_count": 72,
      "outputs": [
        {
          "output_type": "stream",
          "name": "stdout",
          "text": [
            "tensor([[[[ 6.6000,  8.3000],\n",
            "          [13.3000, 14.7000]]]])\n",
            "tensor([[[[ 6.6000,  8.3000],\n",
            "          [13.3000, 14.7000]]]])\n",
            "Outputs match\n"
          ]
        }
      ]
    },
    {
      "cell_type": "markdown",
      "source": [
        "**<h1>2. Написать функцию реализующую сверточный слой через im2col. Сделать проверку результата с помощью прямой реализации свертки.**"
      ],
      "metadata": {
        "id": "fPv4XT0KGZNW"
      }
    },
    {
      "cell_type": "code",
      "source": [
        "def convolution_im2col(input_tensor, filter_tensor, stride=(1, 1), padding=(0, 0)):\n",
        "    N, C_in, H_in, W_in = input_tensor.size()\n",
        "    M, C_fl, R, S = filter_tensor.size()\n",
        "\n",
        "    if C_in == C_fl:\n",
        "      C = C_in\n",
        "    else:\n",
        "      print(\"Error!\")\n",
        "\n",
        "    input_padded = F.pad(input_tensor, (padding[1], padding[1], padding[0], padding[0]))\n",
        "\n",
        "    H_out = (H_in + 2 * padding[0] - R) // stride[0] + 1\n",
        "    W_out = (W_in + 2 * padding[1] - S) // stride[1] + 1\n",
        "\n",
        "    image_matrix = [[[0 for i in range(H_out*W_out)] for j in range(R*R*C)] for k in range(C)]\n",
        "    for n in range(N):\n",
        "      for c in range(C):\n",
        "        start = [0,0]\n",
        "        matrix_column = 0\n",
        "        while start[0] <= H_in - R:\n",
        "          matrix_row = 0\n",
        "          for row in range(start[0],start[0]+R):\n",
        "            for column in range(start[1],start[1]+R):\n",
        "              image_matrix[n][matrix_row][matrix_column] = input_tensor[n,c,row,column].float()\n",
        "              matrix_row += 1\n",
        "          matrix_column += 1\n",
        "          start[1] += 1\n",
        "          if start[1] == W_in-1:\n",
        "            start[0] += 1\n",
        "            start[1] = 0\n",
        "    input_im2col = torch.tensor(image_matrix)\n",
        "\n",
        "    filters_matrix = [[0 for i in range(R*R*C)] for j in range(M)]\n",
        "    for n in range(M):\n",
        "      for c in range(C_fl):\n",
        "        el_num = 0\n",
        "        for row in range(R):\n",
        "          for column in range(S):\n",
        "            filters_matrix[n][el_num] = filter_tensor[n,c,row,column].float()\n",
        "            el_num += 1\n",
        "\n",
        "    filter_reshaped = torch.tensor(filters_matrix)\n",
        "\n",
        "    output_im2col = torch.matmul(filter_reshaped, input_im2col)\n",
        "    output_tensor = output_im2col.view(N, M, H_out, W_out)\n",
        "\n",
        "    return output_tensor"
      ],
      "metadata": {
        "id": "qcFOCR6_FXfF"
      },
      "execution_count": 73,
      "outputs": []
    },
    {
      "cell_type": "code",
      "source": [
        "input_tensor = torch.tensor([[[[1.2, 2.1, 3.1],\n",
        "                               [4.8, 5.4, 6.2],\n",
        "                               [7.5, 8.5, 9.3]]]], dtype=torch.float32)\n",
        "filter1 = torch.tensor([[[1, 0],\n",
        "                         [0, 1]]], dtype=torch.float32)\n",
        "filter2 = torch.tensor([[[0, 1],\n",
        "                         [1, 0]]], dtype=torch.float32)\n",
        "\n",
        "filter_tensor = torch.stack([filter1, filter2], dim=0)\n",
        "output_im2col = convolution_im2col(input_tensor, filter_tensor)\n",
        "output_convolution = convolution(input_tensor, filter_tensor)\n",
        "\n",
        "if torch.allclose(output_im2col, output_convolution):\n",
        "    print(\"Outputs match\")\n",
        "else:\n",
        "    print(\"Outputs don't match\")"
      ],
      "metadata": {
        "colab": {
          "base_uri": "https://localhost:8080/"
        },
        "id": "_Q5qRJ2A4IIh",
        "outputId": "17cfa9e7-9597-4db1-de65-e322a0887f6b"
      },
      "execution_count": 74,
      "outputs": [
        {
          "output_type": "stream",
          "name": "stdout",
          "text": [
            "Outputs match\n"
          ]
        }
      ]
    },
    {
      "cell_type": "code",
      "source": [],
      "metadata": {
        "id": "7huOWbWq5jhB"
      },
      "execution_count": 74,
      "outputs": []
    }
  ]
}